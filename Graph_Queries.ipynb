{
 "cells": [
  {
   "cell_type": "markdown",
   "metadata": {},
   "source": [
    "## This notebook contains queries for the previously created graph data model"
   ]
  },
  {
   "cell_type": "markdown",
   "metadata": {},
   "source": [
    "### Problem 1: Find the top five most used sources (app or site) to post or share a tweet. For each source return the source name and the number of tweets sent via that source.\n",
    "MATCH (s:Source)<-[:USING]-(t:Tweet)  \n",
    "RETURN s.sourceName, count(s.sourceName) AS amount  \n",
    "ORDER BY amount DESC LIMIT 5  "
   ]
  },
  {
   "cell_type": "code",
   "execution_count": 2,
   "metadata": {},
   "outputs": [
    {
     "data": {
      "text/html": [
       "<div>\n",
       "<style scoped>\n",
       "    .dataframe tbody tr th:only-of-type {\n",
       "        vertical-align: middle;\n",
       "    }\n",
       "\n",
       "    .dataframe tbody tr th {\n",
       "        vertical-align: top;\n",
       "    }\n",
       "\n",
       "    .dataframe thead th {\n",
       "        text-align: right;\n",
       "    }\n",
       "</style>\n",
       "<table border=\"1\" class=\"dataframe\">\n",
       "  <thead>\n",
       "    <tr style=\"text-align: right;\">\n",
       "      <th></th>\n",
       "      <th>s.sourceName</th>\n",
       "      <th>amount</th>\n",
       "    </tr>\n",
       "  </thead>\n",
       "  <tbody>\n",
       "    <tr>\n",
       "      <th>0</th>\n",
       "      <td>Twitter for iPhone</td>\n",
       "      <td>3155</td>\n",
       "    </tr>\n",
       "    <tr>\n",
       "      <th>1</th>\n",
       "      <td>Twitter Web Client</td>\n",
       "      <td>1998</td>\n",
       "    </tr>\n",
       "    <tr>\n",
       "      <th>2</th>\n",
       "      <td>Twitter for Android</td>\n",
       "      <td>1414</td>\n",
       "    </tr>\n",
       "    <tr>\n",
       "      <th>3</th>\n",
       "      <td>TweetDeck</td>\n",
       "      <td>557</td>\n",
       "    </tr>\n",
       "    <tr>\n",
       "      <th>4</th>\n",
       "      <td>Twitter for iPad</td>\n",
       "      <td>379</td>\n",
       "    </tr>\n",
       "  </tbody>\n",
       "</table>\n",
       "</div>"
      ],
      "text/plain": [
       "          s.sourceName  amount\n",
       "0   Twitter for iPhone    3155\n",
       "1   Twitter Web Client    1998\n",
       "2  Twitter for Android    1414\n",
       "3            TweetDeck     557\n",
       "4     Twitter for iPad     379"
      ]
     },
     "execution_count": 2,
     "metadata": {},
     "output_type": "execute_result"
    }
   ],
   "source": [
    "\n",
    "import pandas as pd\n",
    "p1 = pd.read_csv(\"Problem1.csv\")\n",
    "p1"
   ]
  },
  {
   "cell_type": "markdown",
   "metadata": {},
   "source": [
    "### Problem 2: Find the top five most used hashtags across all tweets on each day between 26th and 31st March 2016 (inclusive). For each day, return the date and a list of the five top hashtags in order of popularity on that day.\n",
    "CALL {  \n",
    "        MATCH (rt:Retweet)-[:TAGS]->(h:Hashtag)  \n",
    "        WHERE datetime('2016-03-26T00:00:00Z') <= rt.postedTime < datetime('2016-04-01T00:00:00Z')  \n",
    "        RETURN date(rt.postedTime) AS day,  \n",
    "        h.hashtag AS tags,  \n",
    "        count(rt) AS tweets  \n",
    "        ORDER BY tweets DESC  \n",
    "}  \n",
    "RETURN day, collect(tags)[0..5] AS topHashtags  \n",
    "ORDER BY day"
   ]
  },
  {
   "cell_type": "code",
   "execution_count": 3,
   "metadata": {},
   "outputs": [
    {
     "data": {
      "text/html": [
       "<div>\n",
       "<style scoped>\n",
       "    .dataframe tbody tr th:only-of-type {\n",
       "        vertical-align: middle;\n",
       "    }\n",
       "\n",
       "    .dataframe tbody tr th {\n",
       "        vertical-align: top;\n",
       "    }\n",
       "\n",
       "    .dataframe thead th {\n",
       "        text-align: right;\n",
       "    }\n",
       "</style>\n",
       "<table border=\"1\" class=\"dataframe\">\n",
       "  <thead>\n",
       "    <tr style=\"text-align: right;\">\n",
       "      <th></th>\n",
       "      <th>day</th>\n",
       "      <th>topHashtags</th>\n",
       "    </tr>\n",
       "  </thead>\n",
       "  <tbody>\n",
       "    <tr>\n",
       "      <th>0</th>\n",
       "      <td>\"2016-03-26\"</td>\n",
       "      <td>[auspol,timemanagement,socialmedia,Brands,Thre...</td>\n",
       "    </tr>\n",
       "    <tr>\n",
       "      <th>1</th>\n",
       "      <td>\"2016-03-27\"</td>\n",
       "      <td>[Leo,WHM,STEMfem,BrusselsAttacks,isis]</td>\n",
       "    </tr>\n",
       "    <tr>\n",
       "      <th>2</th>\n",
       "      <td>\"2016-03-28\"</td>\n",
       "      <td>[fighthunger,lfc,VibeWithUs,AgentsofSHIELD,CTU...</td>\n",
       "    </tr>\n",
       "    <tr>\n",
       "      <th>3</th>\n",
       "      <td>\"2016-03-29\"</td>\n",
       "      <td>[WomenOfCourage,ISIL,GreatBarrierReef,HighLife...</td>\n",
       "    </tr>\n",
       "    <tr>\n",
       "      <th>4</th>\n",
       "      <td>\"2016-03-30\"</td>\n",
       "      <td>[5SOSFam,BestFanArmy,iHeartAwards,auspol,Clean...</td>\n",
       "    </tr>\n",
       "    <tr>\n",
       "      <th>5</th>\n",
       "      <td>\"2016-03-31\"</td>\n",
       "      <td>[BestFanArmy,iHeartAwards,5SOSFam,auspol,ALDUB...</td>\n",
       "    </tr>\n",
       "  </tbody>\n",
       "</table>\n",
       "</div>"
      ],
      "text/plain": [
       "            day                                        topHashtags\n",
       "0  \"2016-03-26\"  [auspol,timemanagement,socialmedia,Brands,Thre...\n",
       "1  \"2016-03-27\"             [Leo,WHM,STEMfem,BrusselsAttacks,isis]\n",
       "2  \"2016-03-28\"  [fighthunger,lfc,VibeWithUs,AgentsofSHIELD,CTU...\n",
       "3  \"2016-03-29\"  [WomenOfCourage,ISIL,GreatBarrierReef,HighLife...\n",
       "4  \"2016-03-30\"  [5SOSFam,BestFanArmy,iHeartAwards,auspol,Clean...\n",
       "5  \"2016-03-31\"  [BestFanArmy,iHeartAwards,5SOSFam,auspol,ALDUB..."
      ]
     },
     "execution_count": 3,
     "metadata": {},
     "output_type": "execute_result"
    }
   ],
   "source": [
    "p2 = pd.read_csv(\"Problem2.csv\")\n",
    "p2"
   ]
  },
  {
   "cell_type": "markdown",
   "metadata": {},
   "source": [
    "### Problem 3: Find all users that use any of the same hashtags as user \"m_mrezamm\". This query must exclude any retweets since these posts would automatically contain common tags. The query must return the user name and the number of hashtags that were used in their tweets that are also used by \"m_mrezamm\". Order results by the number of hashtags used in common.\n",
    "MATCH (u1:User {twitterName: 'm_mrezamm'})-[:POSTS]->(t:Tweet)-[:TAGS]->(h:Hashtag)  \n",
    "MATCH (h)<-[:TAGS]-(t1:Tweet)<-[:POSTS]-(other:User)  \n",
    "WHERE other.twitterName <> 'm_mrezamm'  \n",
    "WITH other, collect(h) AS tags  \n",
    "RETURN other.twitterName AS otherUser, size(tags) AS commonTags  \n",
    "ORDER BY commonTags DESC"
   ]
  },
  {
   "cell_type": "code",
   "execution_count": 4,
   "metadata": {},
   "outputs": [
    {
     "data": {
      "text/html": [
       "<div>\n",
       "<style scoped>\n",
       "    .dataframe tbody tr th:only-of-type {\n",
       "        vertical-align: middle;\n",
       "    }\n",
       "\n",
       "    .dataframe tbody tr th {\n",
       "        vertical-align: top;\n",
       "    }\n",
       "\n",
       "    .dataframe thead th {\n",
       "        text-align: right;\n",
       "    }\n",
       "</style>\n",
       "<table border=\"1\" class=\"dataframe\">\n",
       "  <thead>\n",
       "    <tr style=\"text-align: right;\">\n",
       "      <th></th>\n",
       "      <th>otherUser</th>\n",
       "      <th>commonTags</th>\n",
       "    </tr>\n",
       "  </thead>\n",
       "  <tbody>\n",
       "    <tr>\n",
       "      <th>0</th>\n",
       "      <td>bhardost</td>\n",
       "      <td>8</td>\n",
       "    </tr>\n",
       "    <tr>\n",
       "      <th>1</th>\n",
       "      <td>Hadi_IraniAsl</td>\n",
       "      <td>4</td>\n",
       "    </tr>\n",
       "    <tr>\n",
       "      <th>2</th>\n",
       "      <td>chiniejamaican</td>\n",
       "      <td>1</td>\n",
       "    </tr>\n",
       "    <tr>\n",
       "      <th>3</th>\n",
       "      <td>Protest_Safely</td>\n",
       "      <td>1</td>\n",
       "    </tr>\n",
       "    <tr>\n",
       "      <th>4</th>\n",
       "      <td>rejivohedofe</td>\n",
       "      <td>1</td>\n",
       "    </tr>\n",
       "    <tr>\n",
       "      <th>5</th>\n",
       "      <td>Shakor_Kakavand</td>\n",
       "      <td>1</td>\n",
       "    </tr>\n",
       "  </tbody>\n",
       "</table>\n",
       "</div>"
      ],
      "text/plain": [
       "         otherUser  commonTags\n",
       "0         bhardost           8\n",
       "1    Hadi_IraniAsl           4\n",
       "2   chiniejamaican           1\n",
       "3   Protest_Safely           1\n",
       "4     rejivohedofe           1\n",
       "5  Shakor_Kakavand           1"
      ]
     },
     "execution_count": 4,
     "metadata": {},
     "output_type": "execute_result"
    }
   ],
   "source": [
    "p3 = pd.read_csv(\"Problem3.csv\")\n",
    "p3"
   ]
  },
  {
   "cell_type": "markdown",
   "metadata": {},
   "source": [
    "### Problem 4: The original dataset does not contain information about which users follow each other. For this exercise we will infer that any user that MENTIONS another user in a tweet FOLLOWS that user. Write a Cypher expression which creates FOLLOW relationships based on this assumption, for example if UserA mentions UserB in a tweet, then it is assumed that UserA FOLLOWS UserB. Each FOLLOWS relationship added to the graph should also have a ‘weight’ property with a value of 1.\n",
    "MATCH (u:User)-[:POSTS]->(t:Tweet)-[:MENTIONS]->(m:mentionedUser)  \n",
    "MERGE (u)-[:FOLLOWS{weight:1}]->(m)"
   ]
  },
  {
   "cell_type": "markdown",
   "metadata": {},
   "source": [
    "### Problem 5: Using the FOLLOWS relationship derived in Problem 4, use the Neo4j Graph Data Science library to calculate the most popular nodes using Degree Centrality from the FOLLOWS subgraph. Then, find the top five users with the highest Degree Centrality score. (consider using NATURAL orientation and the weight property for the graph projection).\n",
    "#### Graph Projection\n",
    "CALL gds.graph.project(  \n",
    "  'centralityGraph',  \n",
    "  ['User','mentionedUser'],  \n",
    "  {  \n",
    "    FOLLOWS: {  \n",
    "      orientation: 'NATURAL',  \n",
    "      properties: ['weight']  \n",
    "    }})  \n",
    "#### Degree Centrality\n",
    "CALL gds.degree.stream('centralityGraph',  \n",
    "    {relationshipWeightProperty: 'weight',  \n",
    "    orientation: 'REVERSE'}  \n",
    "    )  \n",
    "YIELD nodeId, score  \n",
    "RETURN gds.util.asNode(nodeId).twitterName AS user, score AS weightedScore  \n",
    "ORDER BY weightedScore DESC, user LIMIT 5"
   ]
  },
  {
   "cell_type": "code",
   "execution_count": 5,
   "metadata": {},
   "outputs": [
    {
     "data": {
      "text/html": [
       "<div>\n",
       "<style scoped>\n",
       "    .dataframe tbody tr th:only-of-type {\n",
       "        vertical-align: middle;\n",
       "    }\n",
       "\n",
       "    .dataframe tbody tr th {\n",
       "        vertical-align: top;\n",
       "    }\n",
       "\n",
       "    .dataframe thead th {\n",
       "        text-align: right;\n",
       "    }\n",
       "</style>\n",
       "<table border=\"1\" class=\"dataframe\">\n",
       "  <thead>\n",
       "    <tr style=\"text-align: right;\">\n",
       "      <th></th>\n",
       "      <th>user</th>\n",
       "      <th>weightedScore</th>\n",
       "    </tr>\n",
       "  </thead>\n",
       "  <tbody>\n",
       "    <tr>\n",
       "      <th>0</th>\n",
       "      <td>YouTube</td>\n",
       "      <td>91.0</td>\n",
       "    </tr>\n",
       "    <tr>\n",
       "      <th>1</th>\n",
       "      <td>BernieSanders</td>\n",
       "      <td>84.0</td>\n",
       "    </tr>\n",
       "    <tr>\n",
       "      <th>2</th>\n",
       "      <td>5SOS</td>\n",
       "      <td>53.0</td>\n",
       "    </tr>\n",
       "    <tr>\n",
       "      <th>3</th>\n",
       "      <td>Tha5SOSFamily</td>\n",
       "      <td>39.0</td>\n",
       "    </tr>\n",
       "    <tr>\n",
       "      <th>4</th>\n",
       "      <td>HillaryClinton</td>\n",
       "      <td>37.0</td>\n",
       "    </tr>\n",
       "  </tbody>\n",
       "</table>\n",
       "</div>"
      ],
      "text/plain": [
       "             user  weightedScore\n",
       "0         YouTube           91.0\n",
       "1   BernieSanders           84.0\n",
       "2            5SOS           53.0\n",
       "3   Tha5SOSFamily           39.0\n",
       "4  HillaryClinton           37.0"
      ]
     },
     "execution_count": 5,
     "metadata": {},
     "output_type": "execute_result"
    }
   ],
   "source": [
    "p5 = pd.read_csv(\"Problem5.csv\")\n",
    "p5"
   ]
  }
 ],
 "metadata": {
  "kernelspec": {
   "display_name": "Python 3.9.7 ('base')",
   "language": "python",
   "name": "python3"
  },
  "language_info": {
   "codemirror_mode": {
    "name": "ipython",
    "version": 3
   },
   "file_extension": ".py",
   "mimetype": "text/x-python",
   "name": "python",
   "nbconvert_exporter": "python",
   "pygments_lexer": "ipython3",
   "version": "3.9.7"
  },
  "orig_nbformat": 4,
  "vscode": {
   "interpreter": {
    "hash": "e87e4c1a1370bde5d050f81a5b5453f38471463c06a6ce3027d12e2cee982b3a"
   }
  }
 },
 "nbformat": 4,
 "nbformat_minor": 2
}
