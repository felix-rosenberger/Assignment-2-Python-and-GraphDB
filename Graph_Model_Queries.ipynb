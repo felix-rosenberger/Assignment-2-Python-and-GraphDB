{
 "cells": [
  {
   "cell_type": "markdown",
   "metadata": {},
   "source": [
    "## This notebook contains all neo4j queries to create the graph data model on twitter data."
   ]
  },
  {
   "cell_type": "markdown",
   "metadata": {},
   "source": [
    "### Tweet Node\n",
    "CALL apoc.periodic.iterate(\n",
    "'CALL apoc.load.json(\"file:///tweets_clean.json\") YIELD value',\n",
    "'WITH\n",
    "value.id AS id,\n",
    "datetime({ epochMillis: apoc.date.parse(value.postedTime, \"ms\",\n",
    "    \"yyyy-MM-dd\\'T\\'HH:mm:ss.SSS\\'Z\\'\")}) AS postedTimestamp,\n",
    "value.text AS text,\n",
    "value.twitter_lang AS language,\n",
    "value.retweetCount AS retweetCount,\n",
    "value.favoritesCount AS favoritesCount,\n",
    "value.verb AS retweets\n",
    "MERGE (t:Tweet{id:id})\n",
    "ON CREATE SET\n",
    "t.postedTimestamp = postedTimestamp,\n",
    "t.text = text,\n",
    "t.language = language,\n",
    "t.retweetCount = retweetCount,\n",
    "t.favoritesCount = favoritesCount,\n",
    "t.retweetStatus = retweets', \n",
    "{batchSize:500}) \n",
    "YIELD * ;"
   ]
  },
  {
   "cell_type": "markdown",
   "metadata": {},
   "source": [
    "### User Node and POSTS relationship\n",
    "CALL apoc.periodic.iterate(\n",
    "'CALL apoc.load.json(\"file:///tweets_clean.json\") YIELD value',\n",
    "'WITH value\n",
    "MATCH (t:Tweet{id:value.id})\n",
    "WITH t, value\n",
    "UNWIND value.actor AS user\n",
    "MERGE (u:User{id:user.id})\n",
    "ON CREATE SET\n",
    "u.officialName = user.displayName,\n",
    "u.twitterName = user.preferredUsername,\n",
    "u.userLink = user.link\n",
    "MERGE (u)-[:POSTS]->(t)', \n",
    "{batchSize:500}) \n",
    "YIELD * ;"
   ]
  },
  {
   "cell_type": "markdown",
   "metadata": {},
   "source": [
    "### Source Node and USING relationship\n",
    "CALL apoc.periodic.iterate(\n",
    "'CALL apoc.load.json(\"file:///tweets_clean.json\") YIELD value',\n",
    "'WITH value\n",
    "MATCH (t:Tweet{id:value.id})\n",
    "WITH t, value\n",
    "UNWIND value.generator AS source\n",
    "MERGE (s:Source {sourceName:source.displayName})\n",
    "ON CREATE SET\n",
    "s.sourceLink = source.link\n",
    "MERGE (t)-[:USING]->(s)', \n",
    "{batchSize:500}) \n",
    "YIELD * ;"
   ]
  },
  {
   "cell_type": "markdown",
   "metadata": {},
   "source": [
    "### Hashtag Node and TAGS relationship\n",
    "CALL apoc.periodic.iterate(\n",
    "'CALL apoc.load.json(\"file:///tweets_clean.json\") YIELD value',\n",
    "'WITH value\n",
    "MATCH (t:Tweet{id:value.id})\n",
    "WITH t, value\n",
    "UNWIND value.twitter_entities AS level1\n",
    "FOREACH (tag in level1.hashtags | \n",
    "    MERGE (h:Hashtag {hashtag:tag.text})\n",
    "    MERGE (t)-[:TAGS]->(h))', \n",
    "{batchSize:500}) \n",
    "YIELD * ;"
   ]
  },
  {
   "cell_type": "markdown",
   "metadata": {},
   "source": [
    "### Retweet Node and RETWEET and TAGS relationship\n",
    "CALL apoc.periodic.iterate(\n",
    "'CALL apoc.load.json(\"file:///tweets_clean.json\") YIELD value',\n",
    "'WITH value\n",
    "MATCH (t:Tweet{id:value.id})\n",
    "WHERE t.retweetStatus = \"share\"\n",
    "WITH t, value\n",
    "UNWIND value.object AS retweet\n",
    "MERGE (rt:Retweet {id:retweet.id})\n",
    "ON CREATE SET\n",
    "rt.retweetStatus = retweet.verb,\n",
    "rt.postedTime = datetime({ epochMillis: apoc.date.parse(retweet.postedTime, \"ms\",\n",
    "\"yyyy-MM-dd\\'T\\'HH:mm:ss.SSS\\'Z\\'\")}),\n",
    "rt.link = retweet.link,\n",
    "rt.text = retweet.text,\n",
    "rt.favoritesCount = retweet.favoritesCount\n",
    "MERGE (t)-[:RETWEETS]->(rt)\n",
    "WITH rt, value, retweet\n",
    "UNWIND retweet.twitter_entities AS level2\n",
    "FOREACH (tag in level2.hashtags | \n",
    "    MERGE (h:Hashtag {hashtag:tag.text})\n",
    "    MERGE (rt)-[:TAGS]->(h))', \n",
    "{batchSize:500}) \n",
    "YIELD * ;"
   ]
  },
  {
   "cell_type": "markdown",
   "metadata": {},
   "source": [
    "### Mentioned User Node and MENTIONS relationship\n",
    "CALL apoc.periodic.iterate(\n",
    "'CALL apoc.load.json(\"file:///tweets_clean.json\") YIELD value',\n",
    "'WITH value\n",
    "MATCH (t:Tweet{id:value.id})\n",
    "WITH t, value\n",
    "UNWIND value.twitter_entities AS level1\n",
    "FOREACH (user in level1.user_mentions | \n",
    "    MERGE (u:mentionedUser {name:user.name})\n",
    "    ON CREATE SET\n",
    "        u.twitterName = user.screen_name,\n",
    "        u.id = user.id\n",
    "    MERGE (t)-[:MENTIONS]->(u))', \n",
    "{batchSize:500}) \n",
    "YIELD * ;"
   ]
  },
  {
   "cell_type": "markdown",
   "metadata": {},
   "source": [
    "### Link Node and CONTAINS relationship\n",
    "CALL apoc.periodic.iterate(\n",
    "'CALL apoc.load.json(\"file:///tweets_clean.json\") YIELD value',\n",
    "'WITH\n",
    "    value.link AS link,\n",
    "    value.id AS id \n",
    "MATCH(t:Tweet{id:id}) \n",
    "MERGE (l:Link{link:link}) \n",
    "MERGE (t)-[:CONTAINS]->(l)', \n",
    "{batchSize:500}) \n",
    "YIELD * ;"
   ]
  },
  {
   "cell_type": "markdown",
   "metadata": {},
   "source": [
    "All the above queries lead to a data model which can be seen below."
   ]
  },
  {
   "cell_type": "markdown",
   "metadata": {},
   "source": [
    "![Graph_Data_Model](graph.png)\n",
    "\n"
   ]
  }
 ],
 "metadata": {
  "kernelspec": {
   "display_name": "Python 3.9.1 64-bit",
   "language": "python",
   "name": "python3"
  },
  "language_info": {
   "name": "python",
   "version": "3.9.1"
  },
  "orig_nbformat": 4,
  "vscode": {
   "interpreter": {
    "hash": "aee8b7b246df8f9039afb4144a1f6fd8d2ca17a180786b69acc140d282b71a49"
   }
  }
 },
 "nbformat": 4,
 "nbformat_minor": 2
}
